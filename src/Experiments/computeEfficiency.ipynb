{
 "cells": [
  {
   "cell_type": "markdown",
   "source": [
    "Prepare the data"
   ],
   "metadata": {
    "collapsed": false,
    "pycharm": {
     "name": "#%% md\n"
    }
   }
  },
  {
   "cell_type": "code",
   "execution_count": 10,
   "outputs": [
    {
     "data": {
      "text/plain": "      optimisationTechnique objectiveFunction     score  computationTime\n0                    Greedy               ttc  0.250000         0.000279\n1                    Greedy               ttv  0.292683         0.000131\n2                    Greedy               ttc  0.000000         0.000049\n3                    Greedy               ttv  0.000000         0.000049\n4                    Greedy               ttc  0.000000         0.000066\n...                     ...               ...       ...              ...\n58696                   ILP           ttcwscm  0.000000         0.003738\n58697                   ILP           ttvwscm  0.085537         0.004131\n58698                   ILP           ttcwscm  0.000000         0.003984\n58699                   ILP           ttvwscm  0.000000         0.004230\n58700                   ILP           ttcwscm  0.279167         0.004705\n\n[58701 rows x 4 columns]",
      "text/html": "<div>\n<style scoped>\n    .dataframe tbody tr th:only-of-type {\n        vertical-align: middle;\n    }\n\n    .dataframe tbody tr th {\n        vertical-align: top;\n    }\n\n    .dataframe thead th {\n        text-align: right;\n    }\n</style>\n<table border=\"1\" class=\"dataframe\">\n  <thead>\n    <tr style=\"text-align: right;\">\n      <th></th>\n      <th>optimisationTechnique</th>\n      <th>objectiveFunction</th>\n      <th>score</th>\n      <th>computationTime</th>\n    </tr>\n  </thead>\n  <tbody>\n    <tr>\n      <th>0</th>\n      <td>Greedy</td>\n      <td>ttc</td>\n      <td>0.250000</td>\n      <td>0.000279</td>\n    </tr>\n    <tr>\n      <th>1</th>\n      <td>Greedy</td>\n      <td>ttv</td>\n      <td>0.292683</td>\n      <td>0.000131</td>\n    </tr>\n    <tr>\n      <th>2</th>\n      <td>Greedy</td>\n      <td>ttc</td>\n      <td>0.000000</td>\n      <td>0.000049</td>\n    </tr>\n    <tr>\n      <th>3</th>\n      <td>Greedy</td>\n      <td>ttv</td>\n      <td>0.000000</td>\n      <td>0.000049</td>\n    </tr>\n    <tr>\n      <th>4</th>\n      <td>Greedy</td>\n      <td>ttc</td>\n      <td>0.000000</td>\n      <td>0.000066</td>\n    </tr>\n    <tr>\n      <th>...</th>\n      <td>...</td>\n      <td>...</td>\n      <td>...</td>\n      <td>...</td>\n    </tr>\n    <tr>\n      <th>58696</th>\n      <td>ILP</td>\n      <td>ttcwscm</td>\n      <td>0.000000</td>\n      <td>0.003738</td>\n    </tr>\n    <tr>\n      <th>58697</th>\n      <td>ILP</td>\n      <td>ttvwscm</td>\n      <td>0.085537</td>\n      <td>0.004131</td>\n    </tr>\n    <tr>\n      <th>58698</th>\n      <td>ILP</td>\n      <td>ttcwscm</td>\n      <td>0.000000</td>\n      <td>0.003984</td>\n    </tr>\n    <tr>\n      <th>58699</th>\n      <td>ILP</td>\n      <td>ttvwscm</td>\n      <td>0.000000</td>\n      <td>0.004230</td>\n    </tr>\n    <tr>\n      <th>58700</th>\n      <td>ILP</td>\n      <td>ttcwscm</td>\n      <td>0.279167</td>\n      <td>0.004705</td>\n    </tr>\n  </tbody>\n</table>\n<p>58701 rows × 4 columns</p>\n</div>"
     },
     "execution_count": 10,
     "metadata": {},
     "output_type": "execute_result"
    }
   ],
   "source": [
    "import pandas as pd\n",
    "\n",
    "data = pd.read_csv('rawData/1-moves.csv')\n",
    "data = pd.concat([data, pd.read_csv('rawData/2-moves.csv')])\n",
    "data = pd.concat([data, pd.read_csv('rawData/3-moves.csv')])\n",
    "data = pd.concat([data, pd.read_csv('rawData/4-moves.csv')])\n",
    "data = pd.concat([data, pd.read_csv('rawData/5-moves.csv')])\n",
    "data = data.reset_index(drop=True)\n",
    "data = data.drop(columns=['gameID'])\n",
    "# Min-max normalization per objective function\n",
    "for objectiveFunction in data.objectiveFunction.unique():\n",
    "    ofData = data.loc[data['objectiveFunction'] == objectiveFunction].copy()\n",
    "    scoreMin = ofData['score'].min()\n",
    "    scoreMax = ofData['score'].max()\n",
    "    ofData['score'] = (ofData['score'] - scoreMin) / (scoreMax - scoreMin)\n",
    "    data.loc[ofData.index, :] = ofData[:]\n",
    "data['computationTime'] = (data['computationTime'] - data['computationTime'].min()) / (data['computationTime'].max() - data['computationTime'].min())\n",
    "data"
   ],
   "metadata": {
    "collapsed": false,
    "pycharm": {
     "name": "#%%\n"
    }
   }
  },
  {
   "cell_type": "markdown",
   "source": [
    "Process the data"
   ],
   "metadata": {
    "collapsed": false,
    "pycharm": {
     "name": "#%% md\n"
    }
   }
  },
  {
   "cell_type": "code",
   "execution_count": 11,
   "outputs": [
    {
     "data": {
      "text/plain": "                         score  computationTime  efficiency\noptimisationTechnique                                      \nAlphaBeta              1630.72          3586.48        0.45\nGreedy                 1597.81          5615.77        0.28\nILP                    1046.85            56.91       18.39",
      "text/html": "<div>\n<style scoped>\n    .dataframe tbody tr th:only-of-type {\n        vertical-align: middle;\n    }\n\n    .dataframe tbody tr th {\n        vertical-align: top;\n    }\n\n    .dataframe thead th {\n        text-align: right;\n    }\n</style>\n<table border=\"1\" class=\"dataframe\">\n  <thead>\n    <tr style=\"text-align: right;\">\n      <th></th>\n      <th>score</th>\n      <th>computationTime</th>\n      <th>efficiency</th>\n    </tr>\n    <tr>\n      <th>optimisationTechnique</th>\n      <th></th>\n      <th></th>\n      <th></th>\n    </tr>\n  </thead>\n  <tbody>\n    <tr>\n      <th>AlphaBeta</th>\n      <td>1630.72</td>\n      <td>3586.48</td>\n      <td>0.45</td>\n    </tr>\n    <tr>\n      <th>Greedy</th>\n      <td>1597.81</td>\n      <td>5615.77</td>\n      <td>0.28</td>\n    </tr>\n    <tr>\n      <th>ILP</th>\n      <td>1046.85</td>\n      <td>56.91</td>\n      <td>18.39</td>\n    </tr>\n  </tbody>\n</table>\n</div>"
     },
     "execution_count": 11,
     "metadata": {},
     "output_type": "execute_result"
    }
   ],
   "source": [
    "techniqueGroupedData = data.groupby(['optimisationTechnique']).sum()\n",
    "techniqueGroupedData['efficiency'] = techniqueGroupedData['score'] / techniqueGroupedData['computationTime']\n",
    "techniqueGroupedData = techniqueGroupedData.round(2)\n",
    "techniqueGroupedData.to_csv('processedData/techniqueEfficiency.csv')\n",
    "techniqueGroupedData"
   ],
   "metadata": {
    "collapsed": false,
    "pycharm": {
     "name": "#%%\n"
    }
   }
  },
  {
   "cell_type": "code",
   "execution_count": 12,
   "outputs": [
    {
     "data": {
      "text/plain": "                                          score  computationTime  efficiency\noptimisationTechnique objectiveFunction                                     \nAlphaBeta             ttc                373.17           796.96        0.47\n                      ttcwscm            460.61           875.20        0.53\n                      ttv                380.34           921.90        0.41\n                      ttvwscm            416.60           992.42        0.42\nGreedy                ttc                525.25          1803.65        0.29\n                      ttcwscm            391.51          1269.58        0.31\n                      ttv                431.24          1653.00        0.26\n                      ttvwscm            249.81           889.55        0.28\nILP                   ttc                189.00             7.28       25.97\n                      ttcwscm            368.80            18.82       19.60\n                      ttv                191.15             9.42       20.30\n                      ttvwscm            297.90            21.40       13.92",
      "text/html": "<div>\n<style scoped>\n    .dataframe tbody tr th:only-of-type {\n        vertical-align: middle;\n    }\n\n    .dataframe tbody tr th {\n        vertical-align: top;\n    }\n\n    .dataframe thead th {\n        text-align: right;\n    }\n</style>\n<table border=\"1\" class=\"dataframe\">\n  <thead>\n    <tr style=\"text-align: right;\">\n      <th></th>\n      <th></th>\n      <th>score</th>\n      <th>computationTime</th>\n      <th>efficiency</th>\n    </tr>\n    <tr>\n      <th>optimisationTechnique</th>\n      <th>objectiveFunction</th>\n      <th></th>\n      <th></th>\n      <th></th>\n    </tr>\n  </thead>\n  <tbody>\n    <tr>\n      <th rowspan=\"4\" valign=\"top\">AlphaBeta</th>\n      <th>ttc</th>\n      <td>373.17</td>\n      <td>796.96</td>\n      <td>0.47</td>\n    </tr>\n    <tr>\n      <th>ttcwscm</th>\n      <td>460.61</td>\n      <td>875.20</td>\n      <td>0.53</td>\n    </tr>\n    <tr>\n      <th>ttv</th>\n      <td>380.34</td>\n      <td>921.90</td>\n      <td>0.41</td>\n    </tr>\n    <tr>\n      <th>ttvwscm</th>\n      <td>416.60</td>\n      <td>992.42</td>\n      <td>0.42</td>\n    </tr>\n    <tr>\n      <th rowspan=\"4\" valign=\"top\">Greedy</th>\n      <th>ttc</th>\n      <td>525.25</td>\n      <td>1803.65</td>\n      <td>0.29</td>\n    </tr>\n    <tr>\n      <th>ttcwscm</th>\n      <td>391.51</td>\n      <td>1269.58</td>\n      <td>0.31</td>\n    </tr>\n    <tr>\n      <th>ttv</th>\n      <td>431.24</td>\n      <td>1653.00</td>\n      <td>0.26</td>\n    </tr>\n    <tr>\n      <th>ttvwscm</th>\n      <td>249.81</td>\n      <td>889.55</td>\n      <td>0.28</td>\n    </tr>\n    <tr>\n      <th rowspan=\"4\" valign=\"top\">ILP</th>\n      <th>ttc</th>\n      <td>189.00</td>\n      <td>7.28</td>\n      <td>25.97</td>\n    </tr>\n    <tr>\n      <th>ttcwscm</th>\n      <td>368.80</td>\n      <td>18.82</td>\n      <td>19.60</td>\n    </tr>\n    <tr>\n      <th>ttv</th>\n      <td>191.15</td>\n      <td>9.42</td>\n      <td>20.30</td>\n    </tr>\n    <tr>\n      <th>ttvwscm</th>\n      <td>297.90</td>\n      <td>21.40</td>\n      <td>13.92</td>\n    </tr>\n  </tbody>\n</table>\n</div>"
     },
     "execution_count": 12,
     "metadata": {},
     "output_type": "execute_result"
    }
   ],
   "source": [
    "playerGroupedData = data.groupby(['optimisationTechnique', 'objectiveFunction']).sum()\n",
    "playerGroupedData['efficiency'] = playerGroupedData['score'] / playerGroupedData['computationTime']\n",
    "playerGroupedData = playerGroupedData.round(2)\n",
    "playerGroupedData.to_csv('processedData/playerEfficiency.csv')\n",
    "playerGroupedData"
   ],
   "metadata": {
    "collapsed": false,
    "pycharm": {
     "name": "#%%\n"
    }
   }
  },
  {
   "cell_type": "markdown",
   "source": [],
   "metadata": {
    "collapsed": false,
    "pycharm": {
     "name": "#%% md\n"
    }
   }
  }
 ],
 "metadata": {
  "kernelspec": {
   "display_name": "Python 3",
   "language": "python",
   "name": "python3"
  },
  "language_info": {
   "codemirror_mode": {
    "name": "ipython",
    "version": 2
   },
   "file_extension": ".py",
   "mimetype": "text/x-python",
   "name": "python",
   "nbconvert_exporter": "python",
   "pygments_lexer": "ipython2",
   "version": "2.7.6"
  }
 },
 "nbformat": 4,
 "nbformat_minor": 0
}