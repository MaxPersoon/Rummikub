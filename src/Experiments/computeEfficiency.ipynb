{
 "cells": [
  {
   "cell_type": "markdown",
   "source": [
    "Prepare the data"
   ],
   "metadata": {
    "collapsed": false,
    "pycharm": {
     "name": "#%% md\n"
    }
   }
  },
  {
   "cell_type": "code",
   "execution_count": 1,
   "outputs": [
    {
     "data": {
      "text/plain": "      optimisationTechnique objectiveFunction     score  computationTime\n0                    Greedy               ttc  0.230769         0.000475\n1                    Greedy               ttv  0.268966         0.003262\n2                    Greedy               ttc  0.076923         0.000295\n3                    Greedy               ttv  0.000000         0.000410\n4                    Greedy               ttc  0.000000         0.000213\n...                     ...               ...       ...              ...\n86079                   ILP           ttcwscm  0.187110         0.011491\n86080                   ILP           ttvwscm  0.078497         0.013852\n86081                   ILP           ttcwscm  0.000000         0.009590\n86082                   ILP           ttvwscm  0.000000         0.008934\n86083                   ILP           ttcwscm  0.185031         0.009655\n\n[86084 rows x 4 columns]",
      "text/html": "<div>\n<style scoped>\n    .dataframe tbody tr th:only-of-type {\n        vertical-align: middle;\n    }\n\n    .dataframe tbody tr th {\n        vertical-align: top;\n    }\n\n    .dataframe thead th {\n        text-align: right;\n    }\n</style>\n<table border=\"1\" class=\"dataframe\">\n  <thead>\n    <tr style=\"text-align: right;\">\n      <th></th>\n      <th>optimisationTechnique</th>\n      <th>objectiveFunction</th>\n      <th>score</th>\n      <th>computationTime</th>\n    </tr>\n  </thead>\n  <tbody>\n    <tr>\n      <th>0</th>\n      <td>Greedy</td>\n      <td>ttc</td>\n      <td>0.230769</td>\n      <td>0.000475</td>\n    </tr>\n    <tr>\n      <th>1</th>\n      <td>Greedy</td>\n      <td>ttv</td>\n      <td>0.268966</td>\n      <td>0.003262</td>\n    </tr>\n    <tr>\n      <th>2</th>\n      <td>Greedy</td>\n      <td>ttc</td>\n      <td>0.076923</td>\n      <td>0.000295</td>\n    </tr>\n    <tr>\n      <th>3</th>\n      <td>Greedy</td>\n      <td>ttv</td>\n      <td>0.000000</td>\n      <td>0.000410</td>\n    </tr>\n    <tr>\n      <th>4</th>\n      <td>Greedy</td>\n      <td>ttc</td>\n      <td>0.000000</td>\n      <td>0.000213</td>\n    </tr>\n    <tr>\n      <th>...</th>\n      <td>...</td>\n      <td>...</td>\n      <td>...</td>\n      <td>...</td>\n    </tr>\n    <tr>\n      <th>86079</th>\n      <td>ILP</td>\n      <td>ttcwscm</td>\n      <td>0.187110</td>\n      <td>0.011491</td>\n    </tr>\n    <tr>\n      <th>86080</th>\n      <td>ILP</td>\n      <td>ttvwscm</td>\n      <td>0.078497</td>\n      <td>0.013852</td>\n    </tr>\n    <tr>\n      <th>86081</th>\n      <td>ILP</td>\n      <td>ttcwscm</td>\n      <td>0.000000</td>\n      <td>0.009590</td>\n    </tr>\n    <tr>\n      <th>86082</th>\n      <td>ILP</td>\n      <td>ttvwscm</td>\n      <td>0.000000</td>\n      <td>0.008934</td>\n    </tr>\n    <tr>\n      <th>86083</th>\n      <td>ILP</td>\n      <td>ttcwscm</td>\n      <td>0.185031</td>\n      <td>0.009655</td>\n    </tr>\n  </tbody>\n</table>\n<p>86084 rows × 4 columns</p>\n</div>"
     },
     "execution_count": 1,
     "metadata": {},
     "output_type": "execute_result"
    }
   ],
   "source": [
    "import pandas as pd\n",
    "\n",
    "data = pd.read_csv('rawData/3-moves.csv')\n",
    "data = pd.concat([data, pd.read_csv('rawData/5-moves.csv')])\n",
    "data = pd.concat([data, pd.read_csv('rawData/6-moves.csv')])\n",
    "data = pd.concat([data, pd.read_csv('rawData/7-moves.csv')])\n",
    "data = pd.concat([data, pd.read_csv('rawData/8-moves.csv')])\n",
    "data = pd.concat([data, pd.read_csv('rawData/9-moves.csv')])\n",
    "data = pd.concat([data, pd.read_csv('rawData/10-moves.csv')])\n",
    "data = data.reset_index(drop=True)\n",
    "data = data.drop(columns=['gameID'])\n",
    "# Min-max normalization per objective function\n",
    "for objectiveFunction in data.objectiveFunction.unique():\n",
    "    ofData = data.loc[data['objectiveFunction'] == objectiveFunction].copy()\n",
    "    scoreMin = ofData['score'].min()\n",
    "    scoreMax = ofData['score'].max()\n",
    "    ofData['score'] = (ofData['score'] - scoreMin) / (scoreMax - scoreMin)\n",
    "    data.loc[ofData.index, :] = ofData[:]\n",
    "data['computationTime'] = (data['computationTime'] - data['computationTime'].min()) / (data['computationTime'].max() - data['computationTime'].min())\n",
    "data"
   ],
   "metadata": {
    "collapsed": false,
    "pycharm": {
     "name": "#%%\n"
    }
   }
  },
  {
   "cell_type": "markdown",
   "source": [
    "Process the data"
   ],
   "metadata": {
    "collapsed": false,
    "pycharm": {
     "name": "#%% md\n"
    }
   }
  },
  {
   "cell_type": "code",
   "execution_count": 2,
   "outputs": [
    {
     "data": {
      "text/plain": "                         score  computationTime  efficiency\noptimisationTechnique                                      \nAlphaBeta              2064.39          5615.41        0.37\nGreedy                 2090.32          8090.27        0.26\nILP                    1597.34            90.56       17.64",
      "text/html": "<div>\n<style scoped>\n    .dataframe tbody tr th:only-of-type {\n        vertical-align: middle;\n    }\n\n    .dataframe tbody tr th {\n        vertical-align: top;\n    }\n\n    .dataframe thead th {\n        text-align: right;\n    }\n</style>\n<table border=\"1\" class=\"dataframe\">\n  <thead>\n    <tr style=\"text-align: right;\">\n      <th></th>\n      <th>score</th>\n      <th>computationTime</th>\n      <th>efficiency</th>\n    </tr>\n    <tr>\n      <th>optimisationTechnique</th>\n      <th></th>\n      <th></th>\n      <th></th>\n    </tr>\n  </thead>\n  <tbody>\n    <tr>\n      <th>AlphaBeta</th>\n      <td>2064.39</td>\n      <td>5615.41</td>\n      <td>0.37</td>\n    </tr>\n    <tr>\n      <th>Greedy</th>\n      <td>2090.32</td>\n      <td>8090.27</td>\n      <td>0.26</td>\n    </tr>\n    <tr>\n      <th>ILP</th>\n      <td>1597.34</td>\n      <td>90.56</td>\n      <td>17.64</td>\n    </tr>\n  </tbody>\n</table>\n</div>"
     },
     "execution_count": 2,
     "metadata": {},
     "output_type": "execute_result"
    }
   ],
   "source": [
    "techniqueGroupedData = data.groupby(['optimisationTechnique']).sum()\n",
    "techniqueGroupedData['efficiency'] = techniqueGroupedData['score'] / techniqueGroupedData['computationTime']\n",
    "techniqueGroupedData = techniqueGroupedData.round(2)\n",
    "techniqueGroupedData.to_csv('processedData/techniqueEfficiency.csv')\n",
    "techniqueGroupedData"
   ],
   "metadata": {
    "collapsed": false,
    "pycharm": {
     "name": "#%%\n"
    }
   }
  },
  {
   "cell_type": "code",
   "execution_count": 3,
   "outputs": [
    {
     "data": {
      "text/plain": "                                          score  computationTime  efficiency\noptimisationTechnique objectiveFunction                                     \nAlphaBeta             ttc                497.69          1249.61        0.40\n                      ttcwscm            624.44          1371.52        0.46\n                      ttv                450.34          1399.87        0.32\n                      ttvwscm            491.91          1594.42        0.31\nGreedy                ttc                695.77          2714.16        0.26\n                      ttcwscm            566.77          1846.13        0.31\n                      ttv                526.75          2242.04        0.23\n                      ttvwscm            301.03          1287.94        0.23\nILP                   ttc                290.38            11.78       24.65\n                      ttcwscm            612.59            28.65       21.38\n                      ttv                262.20            14.19       18.47\n                      ttvwscm            432.16            35.94       12.02",
      "text/html": "<div>\n<style scoped>\n    .dataframe tbody tr th:only-of-type {\n        vertical-align: middle;\n    }\n\n    .dataframe tbody tr th {\n        vertical-align: top;\n    }\n\n    .dataframe thead th {\n        text-align: right;\n    }\n</style>\n<table border=\"1\" class=\"dataframe\">\n  <thead>\n    <tr style=\"text-align: right;\">\n      <th></th>\n      <th></th>\n      <th>score</th>\n      <th>computationTime</th>\n      <th>efficiency</th>\n    </tr>\n    <tr>\n      <th>optimisationTechnique</th>\n      <th>objectiveFunction</th>\n      <th></th>\n      <th></th>\n      <th></th>\n    </tr>\n  </thead>\n  <tbody>\n    <tr>\n      <th rowspan=\"4\" valign=\"top\">AlphaBeta</th>\n      <th>ttc</th>\n      <td>497.69</td>\n      <td>1249.61</td>\n      <td>0.40</td>\n    </tr>\n    <tr>\n      <th>ttcwscm</th>\n      <td>624.44</td>\n      <td>1371.52</td>\n      <td>0.46</td>\n    </tr>\n    <tr>\n      <th>ttv</th>\n      <td>450.34</td>\n      <td>1399.87</td>\n      <td>0.32</td>\n    </tr>\n    <tr>\n      <th>ttvwscm</th>\n      <td>491.91</td>\n      <td>1594.42</td>\n      <td>0.31</td>\n    </tr>\n    <tr>\n      <th rowspan=\"4\" valign=\"top\">Greedy</th>\n      <th>ttc</th>\n      <td>695.77</td>\n      <td>2714.16</td>\n      <td>0.26</td>\n    </tr>\n    <tr>\n      <th>ttcwscm</th>\n      <td>566.77</td>\n      <td>1846.13</td>\n      <td>0.31</td>\n    </tr>\n    <tr>\n      <th>ttv</th>\n      <td>526.75</td>\n      <td>2242.04</td>\n      <td>0.23</td>\n    </tr>\n    <tr>\n      <th>ttvwscm</th>\n      <td>301.03</td>\n      <td>1287.94</td>\n      <td>0.23</td>\n    </tr>\n    <tr>\n      <th rowspan=\"4\" valign=\"top\">ILP</th>\n      <th>ttc</th>\n      <td>290.38</td>\n      <td>11.78</td>\n      <td>24.65</td>\n    </tr>\n    <tr>\n      <th>ttcwscm</th>\n      <td>612.59</td>\n      <td>28.65</td>\n      <td>21.38</td>\n    </tr>\n    <tr>\n      <th>ttv</th>\n      <td>262.20</td>\n      <td>14.19</td>\n      <td>18.47</td>\n    </tr>\n    <tr>\n      <th>ttvwscm</th>\n      <td>432.16</td>\n      <td>35.94</td>\n      <td>12.02</td>\n    </tr>\n  </tbody>\n</table>\n</div>"
     },
     "execution_count": 3,
     "metadata": {},
     "output_type": "execute_result"
    }
   ],
   "source": [
    "playerGroupedData = data.groupby(['optimisationTechnique', 'objectiveFunction']).sum()\n",
    "playerGroupedData['efficiency'] = playerGroupedData['score'] / playerGroupedData['computationTime']\n",
    "playerGroupedData = playerGroupedData.round(2)\n",
    "playerGroupedData.to_csv('processedData/playerEfficiency.csv')\n",
    "playerGroupedData"
   ],
   "metadata": {
    "collapsed": false,
    "pycharm": {
     "name": "#%%\n"
    }
   }
  },
  {
   "cell_type": "markdown",
   "source": [],
   "metadata": {
    "collapsed": false,
    "pycharm": {
     "name": "#%% md\n"
    }
   }
  }
 ],
 "metadata": {
  "kernelspec": {
   "display_name": "Python 3",
   "language": "python",
   "name": "python3"
  },
  "language_info": {
   "codemirror_mode": {
    "name": "ipython",
    "version": 2
   },
   "file_extension": ".py",
   "mimetype": "text/x-python",
   "name": "python",
   "nbconvert_exporter": "python",
   "pygments_lexer": "ipython2",
   "version": "2.7.6"
  }
 },
 "nbformat": 4,
 "nbformat_minor": 0
}