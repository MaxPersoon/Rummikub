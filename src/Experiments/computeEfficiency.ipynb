{
 "cells": [
  {
   "cell_type": "markdown",
   "source": [
    "Prepare the data"
   ],
   "metadata": {
    "collapsed": false,
    "pycharm": {
     "name": "#%% md\n"
    }
   }
  },
  {
   "cell_type": "code",
   "execution_count": 28,
   "outputs": [
    {
     "data": {
      "text/plain": "      optimisationTechnique objectiveFunction     score  computationTime\n0                    Greedy               ttc  0.250000         0.000279\n1                    Greedy               ttv  0.292683         0.000131\n2                    Greedy               ttc  0.000000         0.000049\n3                    Greedy               ttv  0.000000         0.000049\n4                    Greedy               ttc  0.000000         0.000066\n...                     ...               ...       ...              ...\n58696                   ILP           ttcwscm  0.000000         0.003738\n58697                   ILP           ttvwscm  0.085537         0.004131\n58698                   ILP           ttcwscm  0.000000         0.003984\n58699                   ILP           ttvwscm  0.000000         0.004230\n58700                   ILP           ttcwscm  0.279167         0.004705\n\n[58701 rows x 4 columns]",
      "text/html": "<div>\n<style scoped>\n    .dataframe tbody tr th:only-of-type {\n        vertical-align: middle;\n    }\n\n    .dataframe tbody tr th {\n        vertical-align: top;\n    }\n\n    .dataframe thead th {\n        text-align: right;\n    }\n</style>\n<table border=\"1\" class=\"dataframe\">\n  <thead>\n    <tr style=\"text-align: right;\">\n      <th></th>\n      <th>optimisationTechnique</th>\n      <th>objectiveFunction</th>\n      <th>score</th>\n      <th>computationTime</th>\n    </tr>\n  </thead>\n  <tbody>\n    <tr>\n      <th>0</th>\n      <td>Greedy</td>\n      <td>ttc</td>\n      <td>0.250000</td>\n      <td>0.000279</td>\n    </tr>\n    <tr>\n      <th>1</th>\n      <td>Greedy</td>\n      <td>ttv</td>\n      <td>0.292683</td>\n      <td>0.000131</td>\n    </tr>\n    <tr>\n      <th>2</th>\n      <td>Greedy</td>\n      <td>ttc</td>\n      <td>0.000000</td>\n      <td>0.000049</td>\n    </tr>\n    <tr>\n      <th>3</th>\n      <td>Greedy</td>\n      <td>ttv</td>\n      <td>0.000000</td>\n      <td>0.000049</td>\n    </tr>\n    <tr>\n      <th>4</th>\n      <td>Greedy</td>\n      <td>ttc</td>\n      <td>0.000000</td>\n      <td>0.000066</td>\n    </tr>\n    <tr>\n      <th>...</th>\n      <td>...</td>\n      <td>...</td>\n      <td>...</td>\n      <td>...</td>\n    </tr>\n    <tr>\n      <th>58696</th>\n      <td>ILP</td>\n      <td>ttcwscm</td>\n      <td>0.000000</td>\n      <td>0.003738</td>\n    </tr>\n    <tr>\n      <th>58697</th>\n      <td>ILP</td>\n      <td>ttvwscm</td>\n      <td>0.085537</td>\n      <td>0.004131</td>\n    </tr>\n    <tr>\n      <th>58698</th>\n      <td>ILP</td>\n      <td>ttcwscm</td>\n      <td>0.000000</td>\n      <td>0.003984</td>\n    </tr>\n    <tr>\n      <th>58699</th>\n      <td>ILP</td>\n      <td>ttvwscm</td>\n      <td>0.000000</td>\n      <td>0.004230</td>\n    </tr>\n    <tr>\n      <th>58700</th>\n      <td>ILP</td>\n      <td>ttcwscm</td>\n      <td>0.279167</td>\n      <td>0.004705</td>\n    </tr>\n  </tbody>\n</table>\n<p>58701 rows × 4 columns</p>\n</div>"
     },
     "execution_count": 28,
     "metadata": {},
     "output_type": "execute_result"
    }
   ],
   "source": [
    "import pandas as pd\n",
    "\n",
    "data = pd.read_csv('rawData/1-moves.csv')\n",
    "data = pd.concat([data, pd.read_csv('rawData/2-moves.csv')])\n",
    "data = pd.concat([data, pd.read_csv('rawData/3-moves.csv')])\n",
    "data = pd.concat([data, pd.read_csv('rawData/4-moves.csv')])\n",
    "data = pd.concat([data, pd.read_csv('rawData/5-moves.csv')])\n",
    "data = data.reset_index(drop=True)\n",
    "data = data.drop(columns=['gameID'])\n",
    "# Min-max normalization per objective function\n",
    "for objectiveFunction in data.objectiveFunction.unique():\n",
    "    ofData = data.loc[data['objectiveFunction'] == objectiveFunction].copy()\n",
    "    scoreMin = ofData['score'].min()\n",
    "    scoreMax = ofData['score'].max()\n",
    "    ofData['score'] = (ofData['score'] - scoreMin) / (scoreMax - scoreMin)\n",
    "    data.loc[ofData.index, :] = ofData[:]\n",
    "data['computationTime'] = (data['computationTime'] - data['computationTime'].min()) / (data['computationTime'].max() - data['computationTime'].min())\n",
    "data"
   ],
   "metadata": {
    "collapsed": false,
    "pycharm": {
     "name": "#%%\n"
    }
   }
  },
  {
   "cell_type": "markdown",
   "source": [
    "Process the data"
   ],
   "metadata": {
    "collapsed": false,
    "pycharm": {
     "name": "#%% md\n"
    }
   }
  },
  {
   "cell_type": "code",
   "execution_count": 29,
   "outputs": [
    {
     "data": {
      "text/plain": "                             score  computationTime  efficiency\noptimisationTechnique                                          \nAlphaBeta              1630.719993      3586.475483    0.454686\nGreedy                 1597.812170      5615.772619    0.284522\nILP                    1046.850508        56.912622   18.393996",
      "text/html": "<div>\n<style scoped>\n    .dataframe tbody tr th:only-of-type {\n        vertical-align: middle;\n    }\n\n    .dataframe tbody tr th {\n        vertical-align: top;\n    }\n\n    .dataframe thead th {\n        text-align: right;\n    }\n</style>\n<table border=\"1\" class=\"dataframe\">\n  <thead>\n    <tr style=\"text-align: right;\">\n      <th></th>\n      <th>score</th>\n      <th>computationTime</th>\n      <th>efficiency</th>\n    </tr>\n    <tr>\n      <th>optimisationTechnique</th>\n      <th></th>\n      <th></th>\n      <th></th>\n    </tr>\n  </thead>\n  <tbody>\n    <tr>\n      <th>AlphaBeta</th>\n      <td>1630.719993</td>\n      <td>3586.475483</td>\n      <td>0.454686</td>\n    </tr>\n    <tr>\n      <th>Greedy</th>\n      <td>1597.812170</td>\n      <td>5615.772619</td>\n      <td>0.284522</td>\n    </tr>\n    <tr>\n      <th>ILP</th>\n      <td>1046.850508</td>\n      <td>56.912622</td>\n      <td>18.393996</td>\n    </tr>\n  </tbody>\n</table>\n</div>"
     },
     "execution_count": 29,
     "metadata": {},
     "output_type": "execute_result"
    }
   ],
   "source": [
    "techniqueGroupedData = data.groupby(['optimisationTechnique']).sum()\n",
    "techniqueGroupedData['efficiency'] = techniqueGroupedData['score'] / techniqueGroupedData['computationTime']\n",
    "techniqueGroupedData.to_csv('processedData/techniqueEfficiency.csv')\n",
    "techniqueGroupedData"
   ],
   "metadata": {
    "collapsed": false,
    "pycharm": {
     "name": "#%%\n"
    }
   }
  },
  {
   "cell_type": "code",
   "execution_count": 30,
   "outputs": [
    {
     "data": {
      "text/plain": "                                              score  computationTime  \\\noptimisationTechnique objectiveFunction                                \nAlphaBeta             ttc                373.166667       796.957278   \n                      ttcwscm            460.610417       875.196134   \n                      ttv                380.341463       921.903933   \n                      ttvwscm            416.601446       992.418138   \nGreedy                ttc                525.250000      1803.652535   \n                      ttcwscm            391.510417      1269.577583   \n                      ttv                431.243902      1652.996803   \n                      ttvwscm            249.807851       889.545697   \nILP                   ttc                189.000000         7.277709   \n                      ttcwscm            368.804167        18.817866   \n                      ttv                191.146341         9.417384   \n                      ttvwscm            297.900000        21.399662   \n\n                                         efficiency  \noptimisationTechnique objectiveFunction              \nAlphaBeta             ttc                  0.468239  \n                      ttcwscm              0.526294  \n                      ttv                  0.412561  \n                      ttvwscm              0.419784  \nGreedy                ttc                  0.291215  \n                      ttcwscm              0.308378  \n                      ttv                  0.260886  \n                      ttvwscm              0.280826  \nILP                   ttc                 25.969709  \n                      ttcwscm             19.598618  \n                      ttv                 20.297181  \n                      ttvwscm             13.920780  ",
      "text/html": "<div>\n<style scoped>\n    .dataframe tbody tr th:only-of-type {\n        vertical-align: middle;\n    }\n\n    .dataframe tbody tr th {\n        vertical-align: top;\n    }\n\n    .dataframe thead th {\n        text-align: right;\n    }\n</style>\n<table border=\"1\" class=\"dataframe\">\n  <thead>\n    <tr style=\"text-align: right;\">\n      <th></th>\n      <th></th>\n      <th>score</th>\n      <th>computationTime</th>\n      <th>efficiency</th>\n    </tr>\n    <tr>\n      <th>optimisationTechnique</th>\n      <th>objectiveFunction</th>\n      <th></th>\n      <th></th>\n      <th></th>\n    </tr>\n  </thead>\n  <tbody>\n    <tr>\n      <th rowspan=\"4\" valign=\"top\">AlphaBeta</th>\n      <th>ttc</th>\n      <td>373.166667</td>\n      <td>796.957278</td>\n      <td>0.468239</td>\n    </tr>\n    <tr>\n      <th>ttcwscm</th>\n      <td>460.610417</td>\n      <td>875.196134</td>\n      <td>0.526294</td>\n    </tr>\n    <tr>\n      <th>ttv</th>\n      <td>380.341463</td>\n      <td>921.903933</td>\n      <td>0.412561</td>\n    </tr>\n    <tr>\n      <th>ttvwscm</th>\n      <td>416.601446</td>\n      <td>992.418138</td>\n      <td>0.419784</td>\n    </tr>\n    <tr>\n      <th rowspan=\"4\" valign=\"top\">Greedy</th>\n      <th>ttc</th>\n      <td>525.250000</td>\n      <td>1803.652535</td>\n      <td>0.291215</td>\n    </tr>\n    <tr>\n      <th>ttcwscm</th>\n      <td>391.510417</td>\n      <td>1269.577583</td>\n      <td>0.308378</td>\n    </tr>\n    <tr>\n      <th>ttv</th>\n      <td>431.243902</td>\n      <td>1652.996803</td>\n      <td>0.260886</td>\n    </tr>\n    <tr>\n      <th>ttvwscm</th>\n      <td>249.807851</td>\n      <td>889.545697</td>\n      <td>0.280826</td>\n    </tr>\n    <tr>\n      <th rowspan=\"4\" valign=\"top\">ILP</th>\n      <th>ttc</th>\n      <td>189.000000</td>\n      <td>7.277709</td>\n      <td>25.969709</td>\n    </tr>\n    <tr>\n      <th>ttcwscm</th>\n      <td>368.804167</td>\n      <td>18.817866</td>\n      <td>19.598618</td>\n    </tr>\n    <tr>\n      <th>ttv</th>\n      <td>191.146341</td>\n      <td>9.417384</td>\n      <td>20.297181</td>\n    </tr>\n    <tr>\n      <th>ttvwscm</th>\n      <td>297.900000</td>\n      <td>21.399662</td>\n      <td>13.920780</td>\n    </tr>\n  </tbody>\n</table>\n</div>"
     },
     "execution_count": 30,
     "metadata": {},
     "output_type": "execute_result"
    }
   ],
   "source": [
    "playerGroupedData = data.groupby(['optimisationTechnique', 'objectiveFunction']).sum()\n",
    "playerGroupedData['efficiency'] = playerGroupedData['score'] / playerGroupedData['computationTime']\n",
    "playerGroupedData.to_csv('processedData/playerEfficiency.csv')\n",
    "playerGroupedData"
   ],
   "metadata": {
    "collapsed": false,
    "pycharm": {
     "name": "#%%\n"
    }
   }
  },
  {
   "cell_type": "markdown",
   "source": [],
   "metadata": {
    "collapsed": false,
    "pycharm": {
     "name": "#%% md\n"
    }
   }
  }
 ],
 "metadata": {
  "kernelspec": {
   "display_name": "Python 3",
   "language": "python",
   "name": "python3"
  },
  "language_info": {
   "codemirror_mode": {
    "name": "ipython",
    "version": 2
   },
   "file_extension": ".py",
   "mimetype": "text/x-python",
   "name": "python",
   "nbconvert_exporter": "python",
   "pygments_lexer": "ipython2",
   "version": "2.7.6"
  }
 },
 "nbformat": 4,
 "nbformat_minor": 0
}